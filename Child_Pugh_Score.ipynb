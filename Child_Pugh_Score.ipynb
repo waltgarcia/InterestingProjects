{
  "nbformat": 4,
  "nbformat_minor": 0,
  "metadata": {
    "colab": {
      "provenance": [],
      "authorship_tag": "ABX9TyMd/33b8jIywy/NR1uuQmWM",
      "include_colab_link": true
    },
    "kernelspec": {
      "name": "python3",
      "display_name": "Python 3"
    },
    "language_info": {
      "name": "python"
    }
  },
  "cells": [
    {
      "cell_type": "markdown",
      "metadata": {
        "id": "view-in-github",
        "colab_type": "text"
      },
      "source": [
        "<a href=\"https://colab.research.google.com/github/waltgarcia/InterestingProjects/blob/master/Child_Pugh_Score.ipynb\" target=\"_parent\"><img src=\"https://colab.research.google.com/assets/colab-badge.svg\" alt=\"Open In Colab\"/></a>"
      ]
    },
    {
      "cell_type": "code",
      "source": [
        "#define a function to calculate child pugh score\n",
        "def child_pugh_score(albumin, bilirubin, INR, ascites, encephalopathy):\n",
        "    score = 0\n",
        "    if albumin < 3.5:\n",
        "        score += 1\n",
        "    if bilirubin > 2.3:\n",
        "        score += 1\n",
        "    if INR > 1.5:\n",
        "        score += 1\n",
        "    if ascites == True:\n",
        "        score += 1\n",
        "    if encephalopathy >= 1:\n",
        "        score += 1\n",
        "    if score == 0:\n",
        "        return \"Class A (5-6 points)\"\n",
        "    elif score == 1:\n",
        "        return \"Class B (7-9 points)\"\n",
        "    elif score >= 2:\n",
        "        return \"Class C (10-15 points)\"\n",
        "\n",
        "#example of usage\n",
        "print(child_pugh_score(3.2, 2.0, 1.2, True, 1))\n"
      ],
      "metadata": {
        "colab": {
          "base_uri": "https://localhost:8080/"
        },
        "id": "LCJX-GnL1Pyz",
        "outputId": "5cb89009-0ee8-4f35-f26a-27a65f13226f"
      },
      "execution_count": 6,
      "outputs": [
        {
          "output_type": "stream",
          "name": "stdout",
          "text": [
            "Class C (10-15 points)\n"
          ]
        }
      ]
    },
    {
      "cell_type": "code",
      "source": [],
      "metadata": {
        "id": "gPzCmNB12Kmv"
      },
      "execution_count": null,
      "outputs": []
    }
  ]
}