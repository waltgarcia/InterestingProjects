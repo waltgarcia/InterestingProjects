{
  "nbformat": 4,
  "nbformat_minor": 0,
  "metadata": {
    "colab": {
      "name": "Song's sentiment polarity analyzer v1",
      "version": "0.3.2",
      "provenance": []
    },
    "kernelspec": {
      "name": "python3",
      "display_name": "Python 3"
    }
  },
  "cells": [
    {
      "metadata": {
        "id": "4cKdFzpDqCFP",
        "colab_type": "text"
      },
      "cell_type": "markdown",
      "source": [
        "# Song's sentiment polarity analyzer\n",
        "Disclaimer: this code was made using [Google Colaboratory](https://colab.research.google.com/). The first part of the Notebook was used to import and implement useful libraries.\n",
        "\n",
        "\n",
        "Libraries:\n",
        "*   Textblob\n",
        "\n"
      ]
    },
    {
      "metadata": {
        "id": "sP5SxxOQpUKQ",
        "colab_type": "code",
        "outputId": "de76d716-388d-458d-9bf1-0bc942f35252",
        "colab": {
          "base_uri": "https://localhost:8080/",
          "height": 185
        }
      },
      "cell_type": "code",
      "source": [
        "!pip install bs4"
      ],
      "execution_count": 0,
      "outputs": [
        {
          "output_type": "stream",
          "text": [
            "Collecting bs4\n",
            "  Downloading https://files.pythonhosted.org/packages/10/ed/7e8b97591f6f456174139ec089c769f89a94a1a4025fe967691de971f314/bs4-0.0.1.tar.gz\n",
            "Requirement already satisfied: beautifulsoup4 in /usr/local/lib/python3.6/dist-packages (from bs4) (4.6.3)\n",
            "Building wheels for collected packages: bs4\n",
            "  Running setup.py bdist_wheel for bs4 ... \u001b[?25l-\b \bdone\n",
            "\u001b[?25h  Stored in directory: /root/.cache/pip/wheels/a0/b0/b2/4f80b9456b87abedbc0bf2d52235414c3467d8889be38dd472\n",
            "Successfully built bs4\n",
            "Installing collected packages: bs4\n",
            "Successfully installed bs4-0.0.1\n"
          ],
          "name": "stdout"
        }
      ]
    },
    {
      "metadata": {
        "id": "533fuAE3pYgu",
        "colab_type": "code",
        "outputId": "d1cc84e3-b8f5-4f61-bd24-1b3302d3a723",
        "colab": {
          "base_uri": "https://localhost:8080/",
          "height": 73
        }
      },
      "cell_type": "code",
      "source": [
        "import bs4 as bs\n",
        "!pip install textblob"
      ],
      "execution_count": 0,
      "outputs": [
        {
          "output_type": "stream",
          "text": [
            "Requirement already satisfied: textblob in /usr/local/lib/python3.6/dist-packages (0.15.2)\n",
            "Requirement already satisfied: nltk>=3.1 in /usr/local/lib/python3.6/dist-packages (from textblob) (3.2.5)\n",
            "Requirement already satisfied: six in /usr/local/lib/python3.6/dist-packages (from nltk>=3.1->textblob) (1.11.0)\n"
          ],
          "name": "stdout"
        }
      ]
    },
    {
      "metadata": {
        "id": "fJAaywc7pf2I",
        "colab_type": "code",
        "colab": {}
      },
      "cell_type": "code",
      "source": [
        "from textblob import TextBlob"
      ],
      "execution_count": 0,
      "outputs": []
    },
    {
      "metadata": {
        "id": "tE8LNfVa-pjo",
        "colab_type": "code",
        "outputId": "ae674d75-ed5d-48be-f8cd-9fa43f0fec56",
        "colab": {
          "base_uri": "https://localhost:8080/",
          "height": 110
        }
      },
      "cell_type": "code",
      "source": [
        "!pip install nltk\n",
        "import nltk\n",
        "nltk.download('punkt')"
      ],
      "execution_count": 0,
      "outputs": [
        {
          "output_type": "stream",
          "text": [
            "Requirement already satisfied: nltk in /usr/local/lib/python3.6/dist-packages (3.2.5)\n",
            "Requirement already satisfied: six in /usr/local/lib/python3.6/dist-packages (from nltk) (1.11.0)\n",
            "[nltk_data] Downloading package punkt to /root/nltk_data...\n",
            "[nltk_data]   Unzipping tokenizers/punkt.zip.\n"
          ],
          "name": "stdout"
        },
        {
          "output_type": "execute_result",
          "data": {
            "text/plain": [
              "True"
            ]
          },
          "metadata": {
            "tags": []
          },
          "execution_count": 7
        }
      ]
    },
    {
      "metadata": {
        "id": "ehCxNzf2-vgR",
        "colab_type": "code",
        "outputId": "f8f65256-2015-4b82-9fb6-107db3ac62f2",
        "colab": {
          "base_uri": "https://localhost:8080/",
          "height": 92
        }
      },
      "cell_type": "code",
      "source": [
        "import nltk\n",
        "nltk.download('averaged_perceptron_tagger')"
      ],
      "execution_count": 0,
      "outputs": [
        {
          "output_type": "stream",
          "text": [
            "[nltk_data] Downloading package averaged_perceptron_tagger to\n",
            "[nltk_data]     /root/nltk_data...\n",
            "[nltk_data]   Unzipping taggers/averaged_perceptron_tagger.zip.\n"
          ],
          "name": "stdout"
        },
        {
          "output_type": "execute_result",
          "data": {
            "text/plain": [
              "True"
            ]
          },
          "metadata": {
            "tags": []
          },
          "execution_count": 8
        }
      ]
    },
    {
      "metadata": {
        "id": "0pmczeEzpeEq",
        "colab_type": "text"
      },
      "cell_type": "markdown",
      "source": [
        "# Testing results with a song\n",
        "We will use Queen's famous song *\"We are the champions\" *to test our song analyzer using sentiment polarity function of **textblob**."
      ]
    },
    {
      "metadata": {
        "id": "8WVj73Cjo46Y",
        "colab_type": "code",
        "colab": {}
      },
      "cell_type": "code",
      "source": [
        "#importing song as string\n",
        "wiki = '''\n",
        "I've paid my dues\n",
        "Time after time\n",
        "I've done my sentence\n",
        "But committed no crime\n",
        "And bad mistakes \n",
        "I've made a few\n",
        "I've had my share of sand kicked in my face\n",
        "But I've come through\n",
        "We are the champions, my friends\n",
        "And we'll keep on fighting 'til the end\n",
        "We are the champions\n",
        "We are the champions\n",
        "No time for losers\n",
        "'Cause we are the champions of the world\n",
        "I've taken my bows\n",
        "And my curtain calls\n",
        "You brought me fame and fortune and everything that goes with it\n",
        "I thank you all\n",
        "But it's been no bed of roses\n",
        "No pleasure cruise\n",
        "I consider it a challenge before the whole human race\n",
        "And I ain't gonna lose\n",
        "We are the champions, my friends\n",
        "And we'll keep on fighting 'til the end\n",
        "We are the champions\n",
        "We are the champions\n",
        "No time for losers\n",
        "'Cause we are the champions of the world\n",
        "We are the champions, my friends\n",
        "And we'll keep on fighting 'til the end\n",
        "We are the champions\n",
        "We are the champions\n",
        "No time for losers\n",
        "'Cause we are the champions\n",
        "'''"
      ],
      "execution_count": 0,
      "outputs": []
    },
    {
      "metadata": {
        "id": "M72atrOuo_7Z",
        "colab_type": "code",
        "outputId": "36c8a68a-7468-40b9-b5a4-6731274380f8",
        "colab": {
          "base_uri": "https://localhost:8080/",
          "height": 56
        }
      },
      "cell_type": "code",
      "source": [
        "#tokenize words\n",
        "wiki.words"
      ],
      "execution_count": 0,
      "outputs": [
        {
          "output_type": "execute_result",
          "data": {
            "text/plain": [
              "WordList(['I', 'have', 'paid', 'my', 'dues', 'Time', 'after', 'time', 'I', 'have', 'done', 'my', 'sentence', 'But', 'committed', 'no', 'crime', 'And', 'bad', 'mistakes', 'I', 'have', 'made', 'a', 'few', 'I', 'have', 'had', 'my', 'share', 'of', 'sand', 'kicked', 'in', 'my', 'face', 'But', 'I', 'have', 'come', 'through', 'We', 'are', 'the', 'champions', 'my', 'friends', 'And', 'we', 'will', 'keep', 'on', 'fighting', 'until', 'the', 'end', 'We', 'are', 'the', 'champions', 'We', 'are', 'the', 'champions', 'No', 'time', 'for', 'losers', 'because', 'we', 'are', 'the', 'champions', 'of', 'the', 'world', 'I', 'have', 'taken', 'my', 'bows', 'And', 'my', 'curtain', 'calls', 'You', 'brought', 'me', 'fame', 'and', 'fortune', 'and', 'everything', 'that', 'goes', 'with', 'it', 'I', 'thank', 'you', 'all', 'But', 'it', 'is', 'been', 'no', 'bed', 'of', 'roses', 'No', 'pleasure', 'cruise', 'I', 'consider', 'it', 'a', 'challenge', 'before', 'the', 'whole', 'human', 'race', 'And', 'I', 'will', 'not', 'gon', 'na', 'lose', 'We', 'are', 'the', 'champions', 'my', 'friends', 'And', 'we', 'will', 'keep', 'on', 'fighting', 'until', 'the', 'end', 'We', 'are', 'the', 'champions', 'We', 'are', 'the', 'champions', 'No', 'time', 'for', 'losers', 'because', 'we', 'are', 'the', 'champions', 'of', 'the', 'world', 'We', 'are', 'the', 'champions', 'my', 'friends', 'And', 'we', 'will', 'keep', 'on', 'fighting', 'until', 'the', 'end', 'We', 'are', 'the', 'champions', 'We', 'are', 'the', 'champions', 'No', 'time', 'for', 'losers', 'because', 'we', 'are', 'the', 'champions'])"
            ]
          },
          "metadata": {
            "tags": []
          },
          "execution_count": 16
        }
      ]
    },
    {
      "metadata": {
        "id": "lRvslyxXpKFr",
        "colab_type": "code",
        "outputId": "6a3f535f-2173-4a39-96e4-8f4b1cb74b81",
        "colab": {
          "base_uri": "https://localhost:8080/",
          "height": 36
        }
      },
      "cell_type": "code",
      "source": [
        "#get and print sentiment polarity\n",
        "calif = str(wiki.sentiment.polarity)\n",
        "title = str(\"The name of the song is We are the champions and its score is: \")\n",
        "print (title + calif)"
      ],
      "execution_count": 0,
      "outputs": [
        {
          "output_type": "stream",
          "text": [
            "The name of the song is We are the champions and its score is: -0.1857142857142857\n"
          ],
          "name": "stdout"
        }
      ]
    }
  ]
}